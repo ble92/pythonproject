{
 "cells": [
  {
   "cell_type": "code",
   "execution_count": 1,
   "id": "9fc2dbf8-2174-4655-8068-f14db68ca273",
   "metadata": {},
   "outputs": [],
   "source": [
    "import sklearn"
   ]
  },
  {
   "cell_type": "code",
   "execution_count": 2,
   "id": "0c0f2904-3466-4d84-860e-a29efb050673",
   "metadata": {},
   "outputs": [
    {
     "data": {
      "text/plain": [
       "'0.24.2'"
      ]
     },
     "execution_count": 2,
     "metadata": {},
     "output_type": "execute_result"
    }
   ],
   "source": [
    "sklearn.__version__"
   ]
  },
  {
   "cell_type": "code",
   "execution_count": 3,
   "id": "59739cc7-d9f7-469c-984d-9f661200e20c",
   "metadata": {},
   "outputs": [],
   "source": [
    "from sklearn.datasets import load_iris\n",
    "from sklearn.tree import DecisionTreeClassifier\n",
    "from sklearn.model_selection import train_test_split"
   ]
  },
  {
   "cell_type": "code",
   "execution_count": 4,
   "id": "39a527ff-c657-41b7-be1b-2f3d7f397021",
   "metadata": {},
   "outputs": [],
   "source": [
    "import pandas as pd"
   ]
  },
  {
   "cell_type": "code",
   "execution_count": 5,
   "id": "cd0ca5f4-acc3-4d81-90c6-2ea7a2a55242",
   "metadata": {},
   "outputs": [],
   "source": [
    "iris = load_iris(as_frame=True)"
   ]
  },
  {
   "cell_type": "code",
   "execution_count": 6,
   "id": "e96cc19a-87fd-4665-9b1a-bfb2bb237143",
   "metadata": {},
   "outputs": [
    {
     "data": {
      "text/plain": [
       "sklearn.utils.Bunch"
      ]
     },
     "execution_count": 6,
     "metadata": {},
     "output_type": "execute_result"
    }
   ],
   "source": [
    "type(iris)"
   ]
  },
  {
   "cell_type": "code",
   "execution_count": 7,
   "id": "3053f99d-b895-4b03-a017-9c9c70d02bd0",
   "metadata": {},
   "outputs": [
    {
     "data": {
      "text/plain": [
       "dict_keys(['data', 'target', 'frame', 'target_names', 'DESCR', 'feature_names', 'filename'])"
      ]
     },
     "execution_count": 7,
     "metadata": {},
     "output_type": "execute_result"
    }
   ],
   "source": [
    "iris.keys()"
   ]
  },
  {
   "cell_type": "code",
   "execution_count": 8,
   "id": "84f847ce-9103-4b28-9a0d-86df4534443f",
   "metadata": {
    "collapsed": true,
    "jupyter": {
     "outputs_hidden": true
    },
    "tags": []
   },
   "outputs": [
    {
     "data": {
      "text/html": [
       "<div>\n",
       "<style scoped>\n",
       "    .dataframe tbody tr th:only-of-type {\n",
       "        vertical-align: middle;\n",
       "    }\n",
       "\n",
       "    .dataframe tbody tr th {\n",
       "        vertical-align: top;\n",
       "    }\n",
       "\n",
       "    .dataframe thead th {\n",
       "        text-align: right;\n",
       "    }\n",
       "</style>\n",
       "<table border=\"1\" class=\"dataframe\">\n",
       "  <thead>\n",
       "    <tr style=\"text-align: right;\">\n",
       "      <th></th>\n",
       "      <th>sepal length (cm)</th>\n",
       "      <th>sepal width (cm)</th>\n",
       "      <th>petal length (cm)</th>\n",
       "      <th>petal width (cm)</th>\n",
       "    </tr>\n",
       "  </thead>\n",
       "  <tbody>\n",
       "    <tr>\n",
       "      <th>0</th>\n",
       "      <td>5.1</td>\n",
       "      <td>3.5</td>\n",
       "      <td>1.4</td>\n",
       "      <td>0.2</td>\n",
       "    </tr>\n",
       "    <tr>\n",
       "      <th>1</th>\n",
       "      <td>4.9</td>\n",
       "      <td>3.0</td>\n",
       "      <td>1.4</td>\n",
       "      <td>0.2</td>\n",
       "    </tr>\n",
       "    <tr>\n",
       "      <th>2</th>\n",
       "      <td>4.7</td>\n",
       "      <td>3.2</td>\n",
       "      <td>1.3</td>\n",
       "      <td>0.2</td>\n",
       "    </tr>\n",
       "    <tr>\n",
       "      <th>3</th>\n",
       "      <td>4.6</td>\n",
       "      <td>3.1</td>\n",
       "      <td>1.5</td>\n",
       "      <td>0.2</td>\n",
       "    </tr>\n",
       "    <tr>\n",
       "      <th>4</th>\n",
       "      <td>5.0</td>\n",
       "      <td>3.6</td>\n",
       "      <td>1.4</td>\n",
       "      <td>0.2</td>\n",
       "    </tr>\n",
       "    <tr>\n",
       "      <th>...</th>\n",
       "      <td>...</td>\n",
       "      <td>...</td>\n",
       "      <td>...</td>\n",
       "      <td>...</td>\n",
       "    </tr>\n",
       "    <tr>\n",
       "      <th>145</th>\n",
       "      <td>6.7</td>\n",
       "      <td>3.0</td>\n",
       "      <td>5.2</td>\n",
       "      <td>2.3</td>\n",
       "    </tr>\n",
       "    <tr>\n",
       "      <th>146</th>\n",
       "      <td>6.3</td>\n",
       "      <td>2.5</td>\n",
       "      <td>5.0</td>\n",
       "      <td>1.9</td>\n",
       "    </tr>\n",
       "    <tr>\n",
       "      <th>147</th>\n",
       "      <td>6.5</td>\n",
       "      <td>3.0</td>\n",
       "      <td>5.2</td>\n",
       "      <td>2.0</td>\n",
       "    </tr>\n",
       "    <tr>\n",
       "      <th>148</th>\n",
       "      <td>6.2</td>\n",
       "      <td>3.4</td>\n",
       "      <td>5.4</td>\n",
       "      <td>2.3</td>\n",
       "    </tr>\n",
       "    <tr>\n",
       "      <th>149</th>\n",
       "      <td>5.9</td>\n",
       "      <td>3.0</td>\n",
       "      <td>5.1</td>\n",
       "      <td>1.8</td>\n",
       "    </tr>\n",
       "  </tbody>\n",
       "</table>\n",
       "<p>150 rows × 4 columns</p>\n",
       "</div>"
      ],
      "text/plain": [
       "     sepal length (cm)  sepal width (cm)  petal length (cm)  petal width (cm)\n",
       "0                  5.1               3.5                1.4               0.2\n",
       "1                  4.9               3.0                1.4               0.2\n",
       "2                  4.7               3.2                1.3               0.2\n",
       "3                  4.6               3.1                1.5               0.2\n",
       "4                  5.0               3.6                1.4               0.2\n",
       "..                 ...               ...                ...               ...\n",
       "145                6.7               3.0                5.2               2.3\n",
       "146                6.3               2.5                5.0               1.9\n",
       "147                6.5               3.0                5.2               2.0\n",
       "148                6.2               3.4                5.4               2.3\n",
       "149                5.9               3.0                5.1               1.8\n",
       "\n",
       "[150 rows x 4 columns]"
      ]
     },
     "execution_count": 8,
     "metadata": {},
     "output_type": "execute_result"
    }
   ],
   "source": [
    "iris['data']"
   ]
  },
  {
   "cell_type": "code",
   "execution_count": 9,
   "id": "7a63bd0c-4a4e-4809-bb86-16924e38ad57",
   "metadata": {
    "collapsed": true,
    "jupyter": {
     "outputs_hidden": true
    },
    "tags": []
   },
   "outputs": [
    {
     "data": {
      "text/html": [
       "<div>\n",
       "<style scoped>\n",
       "    .dataframe tbody tr th:only-of-type {\n",
       "        vertical-align: middle;\n",
       "    }\n",
       "\n",
       "    .dataframe tbody tr th {\n",
       "        vertical-align: top;\n",
       "    }\n",
       "\n",
       "    .dataframe thead th {\n",
       "        text-align: right;\n",
       "    }\n",
       "</style>\n",
       "<table border=\"1\" class=\"dataframe\">\n",
       "  <thead>\n",
       "    <tr style=\"text-align: right;\">\n",
       "      <th></th>\n",
       "      <th>sepal length (cm)</th>\n",
       "      <th>sepal width (cm)</th>\n",
       "      <th>petal length (cm)</th>\n",
       "      <th>petal width (cm)</th>\n",
       "    </tr>\n",
       "  </thead>\n",
       "  <tbody>\n",
       "    <tr>\n",
       "      <th>0</th>\n",
       "      <td>5.1</td>\n",
       "      <td>3.5</td>\n",
       "      <td>1.4</td>\n",
       "      <td>0.2</td>\n",
       "    </tr>\n",
       "    <tr>\n",
       "      <th>1</th>\n",
       "      <td>4.9</td>\n",
       "      <td>3.0</td>\n",
       "      <td>1.4</td>\n",
       "      <td>0.2</td>\n",
       "    </tr>\n",
       "    <tr>\n",
       "      <th>2</th>\n",
       "      <td>4.7</td>\n",
       "      <td>3.2</td>\n",
       "      <td>1.3</td>\n",
       "      <td>0.2</td>\n",
       "    </tr>\n",
       "    <tr>\n",
       "      <th>3</th>\n",
       "      <td>4.6</td>\n",
       "      <td>3.1</td>\n",
       "      <td>1.5</td>\n",
       "      <td>0.2</td>\n",
       "    </tr>\n",
       "    <tr>\n",
       "      <th>4</th>\n",
       "      <td>5.0</td>\n",
       "      <td>3.6</td>\n",
       "      <td>1.4</td>\n",
       "      <td>0.2</td>\n",
       "    </tr>\n",
       "    <tr>\n",
       "      <th>...</th>\n",
       "      <td>...</td>\n",
       "      <td>...</td>\n",
       "      <td>...</td>\n",
       "      <td>...</td>\n",
       "    </tr>\n",
       "    <tr>\n",
       "      <th>145</th>\n",
       "      <td>6.7</td>\n",
       "      <td>3.0</td>\n",
       "      <td>5.2</td>\n",
       "      <td>2.3</td>\n",
       "    </tr>\n",
       "    <tr>\n",
       "      <th>146</th>\n",
       "      <td>6.3</td>\n",
       "      <td>2.5</td>\n",
       "      <td>5.0</td>\n",
       "      <td>1.9</td>\n",
       "    </tr>\n",
       "    <tr>\n",
       "      <th>147</th>\n",
       "      <td>6.5</td>\n",
       "      <td>3.0</td>\n",
       "      <td>5.2</td>\n",
       "      <td>2.0</td>\n",
       "    </tr>\n",
       "    <tr>\n",
       "      <th>148</th>\n",
       "      <td>6.2</td>\n",
       "      <td>3.4</td>\n",
       "      <td>5.4</td>\n",
       "      <td>2.3</td>\n",
       "    </tr>\n",
       "    <tr>\n",
       "      <th>149</th>\n",
       "      <td>5.9</td>\n",
       "      <td>3.0</td>\n",
       "      <td>5.1</td>\n",
       "      <td>1.8</td>\n",
       "    </tr>\n",
       "  </tbody>\n",
       "</table>\n",
       "<p>150 rows × 4 columns</p>\n",
       "</div>"
      ],
      "text/plain": [
       "     sepal length (cm)  sepal width (cm)  petal length (cm)  petal width (cm)\n",
       "0                  5.1               3.5                1.4               0.2\n",
       "1                  4.9               3.0                1.4               0.2\n",
       "2                  4.7               3.2                1.3               0.2\n",
       "3                  4.6               3.1                1.5               0.2\n",
       "4                  5.0               3.6                1.4               0.2\n",
       "..                 ...               ...                ...               ...\n",
       "145                6.7               3.0                5.2               2.3\n",
       "146                6.3               2.5                5.0               1.9\n",
       "147                6.5               3.0                5.2               2.0\n",
       "148                6.2               3.4                5.4               2.3\n",
       "149                5.9               3.0                5.1               1.8\n",
       "\n",
       "[150 rows x 4 columns]"
      ]
     },
     "execution_count": 9,
     "metadata": {},
     "output_type": "execute_result"
    }
   ],
   "source": [
    "iris.data"
   ]
  },
  {
   "cell_type": "code",
   "execution_count": 10,
   "id": "a834fb32-2ca0-4b62-9b13-e0daaa7737e0",
   "metadata": {
    "collapsed": true,
    "jupyter": {
     "outputs_hidden": true
    },
    "tags": []
   },
   "outputs": [
    {
     "data": {
      "text/plain": [
       "0      0\n",
       "1      0\n",
       "2      0\n",
       "3      0\n",
       "4      0\n",
       "      ..\n",
       "145    2\n",
       "146    2\n",
       "147    2\n",
       "148    2\n",
       "149    2\n",
       "Name: target, Length: 150, dtype: int32"
      ]
     },
     "execution_count": 10,
     "metadata": {},
     "output_type": "execute_result"
    }
   ],
   "source": [
    "iris.target"
   ]
  },
  {
   "cell_type": "code",
   "execution_count": 11,
   "id": "64186143-c674-4f7a-b9d8-c452735f708f",
   "metadata": {},
   "outputs": [
    {
     "data": {
      "text/plain": [
       "array(['setosa', 'versicolor', 'virginica'], dtype='<U10')"
      ]
     },
     "execution_count": 11,
     "metadata": {},
     "output_type": "execute_result"
    }
   ],
   "source": [
    "iris.target_names"
   ]
  },
  {
   "cell_type": "code",
   "execution_count": 12,
   "id": "4675af24-ffaf-4110-86f9-d285fc3470aa",
   "metadata": {
    "collapsed": true,
    "jupyter": {
     "outputs_hidden": true
    },
    "tags": []
   },
   "outputs": [
    {
     "data": {
      "text/plain": [
       "{'data':      sepal length (cm)  sepal width (cm)  petal length (cm)  petal width (cm)\n",
       " 0                  5.1               3.5                1.4               0.2\n",
       " 1                  4.9               3.0                1.4               0.2\n",
       " 2                  4.7               3.2                1.3               0.2\n",
       " 3                  4.6               3.1                1.5               0.2\n",
       " 4                  5.0               3.6                1.4               0.2\n",
       " ..                 ...               ...                ...               ...\n",
       " 145                6.7               3.0                5.2               2.3\n",
       " 146                6.3               2.5                5.0               1.9\n",
       " 147                6.5               3.0                5.2               2.0\n",
       " 148                6.2               3.4                5.4               2.3\n",
       " 149                5.9               3.0                5.1               1.8\n",
       " \n",
       " [150 rows x 4 columns],\n",
       " 'target': 0      0\n",
       " 1      0\n",
       " 2      0\n",
       " 3      0\n",
       " 4      0\n",
       "       ..\n",
       " 145    2\n",
       " 146    2\n",
       " 147    2\n",
       " 148    2\n",
       " 149    2\n",
       " Name: target, Length: 150, dtype: int32,\n",
       " 'frame':      sepal length (cm)  sepal width (cm)  petal length (cm)  petal width (cm)  \\\n",
       " 0                  5.1               3.5                1.4               0.2   \n",
       " 1                  4.9               3.0                1.4               0.2   \n",
       " 2                  4.7               3.2                1.3               0.2   \n",
       " 3                  4.6               3.1                1.5               0.2   \n",
       " 4                  5.0               3.6                1.4               0.2   \n",
       " ..                 ...               ...                ...               ...   \n",
       " 145                6.7               3.0                5.2               2.3   \n",
       " 146                6.3               2.5                5.0               1.9   \n",
       " 147                6.5               3.0                5.2               2.0   \n",
       " 148                6.2               3.4                5.4               2.3   \n",
       " 149                5.9               3.0                5.1               1.8   \n",
       " \n",
       "      target  \n",
       " 0         0  \n",
       " 1         0  \n",
       " 2         0  \n",
       " 3         0  \n",
       " 4         0  \n",
       " ..      ...  \n",
       " 145       2  \n",
       " 146       2  \n",
       " 147       2  \n",
       " 148       2  \n",
       " 149       2  \n",
       " \n",
       " [150 rows x 5 columns],\n",
       " 'target_names': array(['setosa', 'versicolor', 'virginica'], dtype='<U10'),\n",
       " 'DESCR': '.. _iris_dataset:\\n\\nIris plants dataset\\n--------------------\\n\\n**Data Set Characteristics:**\\n\\n    :Number of Instances: 150 (50 in each of three classes)\\n    :Number of Attributes: 4 numeric, predictive attributes and the class\\n    :Attribute Information:\\n        - sepal length in cm\\n        - sepal width in cm\\n        - petal length in cm\\n        - petal width in cm\\n        - class:\\n                - Iris-Setosa\\n                - Iris-Versicolour\\n                - Iris-Virginica\\n                \\n    :Summary Statistics:\\n\\n    ============== ==== ==== ======= ===== ====================\\n                    Min  Max   Mean    SD   Class Correlation\\n    ============== ==== ==== ======= ===== ====================\\n    sepal length:   4.3  7.9   5.84   0.83    0.7826\\n    sepal width:    2.0  4.4   3.05   0.43   -0.4194\\n    petal length:   1.0  6.9   3.76   1.76    0.9490  (high!)\\n    petal width:    0.1  2.5   1.20   0.76    0.9565  (high!)\\n    ============== ==== ==== ======= ===== ====================\\n\\n    :Missing Attribute Values: None\\n    :Class Distribution: 33.3% for each of 3 classes.\\n    :Creator: R.A. Fisher\\n    :Donor: Michael Marshall (MARSHALL%PLU@io.arc.nasa.gov)\\n    :Date: July, 1988\\n\\nThe famous Iris database, first used by Sir R.A. Fisher. The dataset is taken\\nfrom Fisher\\'s paper. Note that it\\'s the same as in R, but not as in the UCI\\nMachine Learning Repository, which has two wrong data points.\\n\\nThis is perhaps the best known database to be found in the\\npattern recognition literature.  Fisher\\'s paper is a classic in the field and\\nis referenced frequently to this day.  (See Duda & Hart, for example.)  The\\ndata set contains 3 classes of 50 instances each, where each class refers to a\\ntype of iris plant.  One class is linearly separable from the other 2; the\\nlatter are NOT linearly separable from each other.\\n\\n.. topic:: References\\n\\n   - Fisher, R.A. \"The use of multiple measurements in taxonomic problems\"\\n     Annual Eugenics, 7, Part II, 179-188 (1936); also in \"Contributions to\\n     Mathematical Statistics\" (John Wiley, NY, 1950).\\n   - Duda, R.O., & Hart, P.E. (1973) Pattern Classification and Scene Analysis.\\n     (Q327.D83) John Wiley & Sons.  ISBN 0-471-22361-1.  See page 218.\\n   - Dasarathy, B.V. (1980) \"Nosing Around the Neighborhood: A New System\\n     Structure and Classification Rule for Recognition in Partially Exposed\\n     Environments\".  IEEE Transactions on Pattern Analysis and Machine\\n     Intelligence, Vol. PAMI-2, No. 1, 67-71.\\n   - Gates, G.W. (1972) \"The Reduced Nearest Neighbor Rule\".  IEEE Transactions\\n     on Information Theory, May 1972, 431-433.\\n   - See also: 1988 MLC Proceedings, 54-64.  Cheeseman et al\"s AUTOCLASS II\\n     conceptual clustering system finds 3 classes in the data.\\n   - Many, many more ...',\n",
       " 'feature_names': ['sepal length (cm)',\n",
       "  'sepal width (cm)',\n",
       "  'petal length (cm)',\n",
       "  'petal width (cm)'],\n",
       " 'filename': 'C:\\\\Users\\\\owo\\\\Anaconda3\\\\lib\\\\site-packages\\\\sklearn\\\\datasets\\\\data\\\\iris.csv'}"
      ]
     },
     "execution_count": 12,
     "metadata": {},
     "output_type": "execute_result"
    }
   ],
   "source": [
    "iris"
   ]
  },
  {
   "cell_type": "code",
   "execution_count": 13,
   "id": "24190117-2dd9-4a1a-8b57-64c0633af431",
   "metadata": {},
   "outputs": [],
   "source": [
    "iris_df = iris['data']"
   ]
  },
  {
   "cell_type": "code",
   "execution_count": 14,
   "id": "8f96a1a7-54ca-4aa8-9cbb-c486912b5d88",
   "metadata": {},
   "outputs": [],
   "source": [
    "iris_df['target'] = iris['target']"
   ]
  },
  {
   "cell_type": "code",
   "execution_count": 15,
   "id": "a846186e-a5f5-4b94-842e-681efde65177",
   "metadata": {},
   "outputs": [
    {
     "data": {
      "text/html": [
       "<div>\n",
       "<style scoped>\n",
       "    .dataframe tbody tr th:only-of-type {\n",
       "        vertical-align: middle;\n",
       "    }\n",
       "\n",
       "    .dataframe tbody tr th {\n",
       "        vertical-align: top;\n",
       "    }\n",
       "\n",
       "    .dataframe thead th {\n",
       "        text-align: right;\n",
       "    }\n",
       "</style>\n",
       "<table border=\"1\" class=\"dataframe\">\n",
       "  <thead>\n",
       "    <tr style=\"text-align: right;\">\n",
       "      <th></th>\n",
       "      <th>sepal length (cm)</th>\n",
       "      <th>sepal width (cm)</th>\n",
       "      <th>petal length (cm)</th>\n",
       "      <th>petal width (cm)</th>\n",
       "      <th>target</th>\n",
       "    </tr>\n",
       "  </thead>\n",
       "  <tbody>\n",
       "    <tr>\n",
       "      <th>0</th>\n",
       "      <td>5.1</td>\n",
       "      <td>3.5</td>\n",
       "      <td>1.4</td>\n",
       "      <td>0.2</td>\n",
       "      <td>0</td>\n",
       "    </tr>\n",
       "    <tr>\n",
       "      <th>1</th>\n",
       "      <td>4.9</td>\n",
       "      <td>3.0</td>\n",
       "      <td>1.4</td>\n",
       "      <td>0.2</td>\n",
       "      <td>0</td>\n",
       "    </tr>\n",
       "    <tr>\n",
       "      <th>2</th>\n",
       "      <td>4.7</td>\n",
       "      <td>3.2</td>\n",
       "      <td>1.3</td>\n",
       "      <td>0.2</td>\n",
       "      <td>0</td>\n",
       "    </tr>\n",
       "    <tr>\n",
       "      <th>3</th>\n",
       "      <td>4.6</td>\n",
       "      <td>3.1</td>\n",
       "      <td>1.5</td>\n",
       "      <td>0.2</td>\n",
       "      <td>0</td>\n",
       "    </tr>\n",
       "    <tr>\n",
       "      <th>4</th>\n",
       "      <td>5.0</td>\n",
       "      <td>3.6</td>\n",
       "      <td>1.4</td>\n",
       "      <td>0.2</td>\n",
       "      <td>0</td>\n",
       "    </tr>\n",
       "    <tr>\n",
       "      <th>...</th>\n",
       "      <td>...</td>\n",
       "      <td>...</td>\n",
       "      <td>...</td>\n",
       "      <td>...</td>\n",
       "      <td>...</td>\n",
       "    </tr>\n",
       "    <tr>\n",
       "      <th>145</th>\n",
       "      <td>6.7</td>\n",
       "      <td>3.0</td>\n",
       "      <td>5.2</td>\n",
       "      <td>2.3</td>\n",
       "      <td>2</td>\n",
       "    </tr>\n",
       "    <tr>\n",
       "      <th>146</th>\n",
       "      <td>6.3</td>\n",
       "      <td>2.5</td>\n",
       "      <td>5.0</td>\n",
       "      <td>1.9</td>\n",
       "      <td>2</td>\n",
       "    </tr>\n",
       "    <tr>\n",
       "      <th>147</th>\n",
       "      <td>6.5</td>\n",
       "      <td>3.0</td>\n",
       "      <td>5.2</td>\n",
       "      <td>2.0</td>\n",
       "      <td>2</td>\n",
       "    </tr>\n",
       "    <tr>\n",
       "      <th>148</th>\n",
       "      <td>6.2</td>\n",
       "      <td>3.4</td>\n",
       "      <td>5.4</td>\n",
       "      <td>2.3</td>\n",
       "      <td>2</td>\n",
       "    </tr>\n",
       "    <tr>\n",
       "      <th>149</th>\n",
       "      <td>5.9</td>\n",
       "      <td>3.0</td>\n",
       "      <td>5.1</td>\n",
       "      <td>1.8</td>\n",
       "      <td>2</td>\n",
       "    </tr>\n",
       "  </tbody>\n",
       "</table>\n",
       "<p>150 rows × 5 columns</p>\n",
       "</div>"
      ],
      "text/plain": [
       "     sepal length (cm)  sepal width (cm)  petal length (cm)  petal width (cm)  \\\n",
       "0                  5.1               3.5                1.4               0.2   \n",
       "1                  4.9               3.0                1.4               0.2   \n",
       "2                  4.7               3.2                1.3               0.2   \n",
       "3                  4.6               3.1                1.5               0.2   \n",
       "4                  5.0               3.6                1.4               0.2   \n",
       "..                 ...               ...                ...               ...   \n",
       "145                6.7               3.0                5.2               2.3   \n",
       "146                6.3               2.5                5.0               1.9   \n",
       "147                6.5               3.0                5.2               2.0   \n",
       "148                6.2               3.4                5.4               2.3   \n",
       "149                5.9               3.0                5.1               1.8   \n",
       "\n",
       "     target  \n",
       "0         0  \n",
       "1         0  \n",
       "2         0  \n",
       "3         0  \n",
       "4         0  \n",
       "..      ...  \n",
       "145       2  \n",
       "146       2  \n",
       "147       2  \n",
       "148       2  \n",
       "149       2  \n",
       "\n",
       "[150 rows x 5 columns]"
      ]
     },
     "execution_count": 15,
     "metadata": {},
     "output_type": "execute_result"
    }
   ],
   "source": [
    "iris_df"
   ]
  },
  {
   "cell_type": "code",
   "execution_count": 16,
   "id": "9f5ca9b7-5836-41a2-8671-b563aef147ed",
   "metadata": {},
   "outputs": [
    {
     "data": {
      "text/plain": [
       "array(['setosa', 'versicolor', 'virginica'], dtype='<U10')"
      ]
     },
     "execution_count": 16,
     "metadata": {},
     "output_type": "execute_result"
    }
   ],
   "source": [
    "iris.target_names"
   ]
  },
  {
   "cell_type": "code",
   "execution_count": 163,
   "id": "955c6307-ef22-4e40-9448-5f99f1039b11",
   "metadata": {
    "tags": []
   },
   "outputs": [],
   "source": [
    "X_train, X_test, y_train, y_test = train_test_split(iris.data, iris.target, test_size= 0.2, random_state=101)\n",
    "\n",
    "# test_size : 20% 쓰겠다 (데이터를 분리하였음) / random_state = 시드값? 제각각 나와.. 0으로 하면 똑같은 패턴으로 나옴\n",
    "# stratify = 비율을 동일하게 잡아서 뽑아줌, 타겟값을 넣어주면 됨.. "
   ]
  },
  {
   "cell_type": "code",
   "execution_count": 164,
   "id": "08c60b15-6d9a-4a37-af2a-a576a2d2638f",
   "metadata": {
    "collapsed": true,
    "jupyter": {
     "outputs_hidden": true
    },
    "tags": []
   },
   "outputs": [
    {
     "data": {
      "text/plain": [
       "(array([[6.5, 3. , 5.8, 2.2],\n",
       "        [5.5, 2.5, 4. , 1.3],\n",
       "        [6.5, 3. , 5.5, 1.8],\n",
       "        [5.8, 2.7, 3.9, 1.2],\n",
       "        [6.8, 3. , 5.5, 2.1],\n",
       "        [5.7, 2.8, 4.5, 1.3],\n",
       "        [6.7, 3.1, 4.7, 1.5],\n",
       "        [5.9, 3. , 4.2, 1.5],\n",
       "        [5.6, 2.7, 4.2, 1.3],\n",
       "        [7.7, 3. , 6.1, 2.3],\n",
       "        [5.1, 3.7, 1.5, 0.4],\n",
       "        [4.6, 3.6, 1. , 0.2],\n",
       "        [4.7, 3.2, 1.6, 0.2],\n",
       "        [6.7, 3. , 5. , 1.7],\n",
       "        [5.6, 3. , 4.5, 1.5],\n",
       "        [4.3, 3. , 1.1, 0.1],\n",
       "        [7.1, 3. , 5.9, 2.1],\n",
       "        [5.8, 2.7, 4.1, 1. ],\n",
       "        [4.9, 3.1, 1.5, 0.2],\n",
       "        [5.1, 2.5, 3. , 1.1],\n",
       "        [5.6, 2.5, 3.9, 1.1],\n",
       "        [5.1, 3.3, 1.7, 0.5],\n",
       "        [5.8, 2.7, 5.1, 1.9],\n",
       "        [5. , 3.6, 1.4, 0.2],\n",
       "        [4.9, 2.4, 3.3, 1. ],\n",
       "        [6.7, 2.5, 5.8, 1.8],\n",
       "        [5.8, 2.6, 4. , 1.2],\n",
       "        [4.9, 3.6, 1.4, 0.1],\n",
       "        [5.1, 3.4, 1.5, 0.2],\n",
       "        [6.1, 3. , 4.6, 1.4],\n",
       "        [4.6, 3.4, 1.4, 0.3],\n",
       "        [6.4, 3.2, 4.5, 1.5],\n",
       "        [7.7, 2.6, 6.9, 2.3],\n",
       "        [6.3, 3.4, 5.6, 2.4],\n",
       "        [5.4, 3. , 4.5, 1.5],\n",
       "        [5.8, 4. , 1.2, 0.2],\n",
       "        [6. , 2.9, 4.5, 1.5],\n",
       "        [4.6, 3.1, 1.5, 0.2],\n",
       "        [5.8, 2.7, 5.1, 1.9],\n",
       "        [6.9, 3.2, 5.7, 2.3],\n",
       "        [6. , 3.4, 4.5, 1.6],\n",
       "        [6.2, 3.4, 5.4, 2.3],\n",
       "        [6.6, 2.9, 4.6, 1.3],\n",
       "        [6.3, 3.3, 6. , 2.5],\n",
       "        [4.7, 3.2, 1.3, 0.2],\n",
       "        [4.8, 3. , 1.4, 0.3],\n",
       "        [4.9, 3.1, 1.5, 0.1],\n",
       "        [6.5, 2.8, 4.6, 1.5],\n",
       "        [4.6, 3.2, 1.4, 0.2],\n",
       "        [5.1, 3.8, 1.6, 0.2],\n",
       "        [5. , 3.4, 1.6, 0.4],\n",
       "        [7.4, 2.8, 6.1, 1.9],\n",
       "        [5.2, 3.5, 1.5, 0.2],\n",
       "        [5.4, 3.4, 1.7, 0.2],\n",
       "        [6. , 3. , 4.8, 1.8],\n",
       "        [6.2, 2.8, 4.8, 1.8],\n",
       "        [4.8, 3.1, 1.6, 0.2],\n",
       "        [5. , 3.2, 1.2, 0.2],\n",
       "        [7.2, 3.2, 6. , 1.8],\n",
       "        [7.2, 3.6, 6.1, 2.5],\n",
       "        [5.7, 2.5, 5. , 2. ],\n",
       "        [4.8, 3.4, 1.9, 0.2],\n",
       "        [5.7, 2.6, 3.5, 1. ],\n",
       "        [6.8, 3.2, 5.9, 2.3],\n",
       "        [5.1, 3.5, 1.4, 0.3],\n",
       "        [4.8, 3. , 1.4, 0.1],\n",
       "        [6. , 2.2, 5. , 1.5],\n",
       "        [6.4, 2.8, 5.6, 2.1],\n",
       "        [5.7, 4.4, 1.5, 0.4],\n",
       "        [6.1, 2.8, 4. , 1.3],\n",
       "        [5.7, 3.8, 1.7, 0.3],\n",
       "        [4.9, 2.5, 4.5, 1.7],\n",
       "        [7.7, 3.8, 6.7, 2.2],\n",
       "        [4.4, 3. , 1.3, 0.2],\n",
       "        [6.3, 2.9, 5.6, 1.8],\n",
       "        [6.3, 3.3, 4.7, 1.6],\n",
       "        [6.9, 3.1, 4.9, 1.5],\n",
       "        [6.7, 3.3, 5.7, 2.1],\n",
       "        [5. , 3.4, 1.5, 0.2],\n",
       "        [6.9, 3.1, 5.4, 2.1],\n",
       "        [5.2, 3.4, 1.4, 0.2],\n",
       "        [5.7, 2.8, 4.1, 1.3],\n",
       "        [6.3, 2.8, 5.1, 1.5],\n",
       "        [5.5, 3.5, 1.3, 0.2],\n",
       "        [6. , 2.2, 4. , 1. ],\n",
       "        [4.4, 2.9, 1.4, 0.2],\n",
       "        [6.7, 3.1, 5.6, 2.4],\n",
       "        [6.1, 2.8, 4.7, 1.2],\n",
       "        [7.6, 3. , 6.6, 2.1],\n",
       "        [5.1, 3.5, 1.4, 0.2],\n",
       "        [6.7, 3.3, 5.7, 2.5],\n",
       "        [7.3, 2.9, 6.3, 1.8],\n",
       "        [5.9, 3. , 5.1, 1.8],\n",
       "        [6.8, 2.8, 4.8, 1.4],\n",
       "        [5.4, 3.7, 1.5, 0.2],\n",
       "        [5.1, 3.8, 1.5, 0.3],\n",
       "        [5.6, 2.8, 4.9, 2. ],\n",
       "        [6.3, 2.5, 4.9, 1.5],\n",
       "        [5.1, 3.8, 1.9, 0.4],\n",
       "        [5.2, 2.7, 3.9, 1.4],\n",
       "        [7.9, 3.8, 6.4, 2. ],\n",
       "        [6.4, 3.2, 5.3, 2.3],\n",
       "        [6.4, 2.7, 5.3, 1.9],\n",
       "        [6. , 2.7, 5.1, 1.6],\n",
       "        [5. , 3.3, 1.4, 0.2],\n",
       "        [6.9, 3.1, 5.1, 2.3],\n",
       "        [5.4, 3.9, 1.7, 0.4],\n",
       "        [6.5, 3.2, 5.1, 2. ],\n",
       "        [5. , 2. , 3.5, 1. ],\n",
       "        [6.7, 3. , 5.2, 2.3],\n",
       "        [6.4, 2.8, 5.6, 2.2],\n",
       "        [5. , 3.5, 1.3, 0.3],\n",
       "        [6.4, 3.1, 5.5, 1.8],\n",
       "        [6.6, 3. , 4.4, 1.4],\n",
       "        [6.3, 2.3, 4.4, 1.3],\n",
       "        [6.1, 2.9, 4.7, 1.4],\n",
       "        [5.9, 3.2, 4.8, 1.8],\n",
       "        [5.5, 2.4, 3.7, 1. ],\n",
       "        [4.8, 3.4, 1.6, 0.2],\n",
       "        [5.7, 3. , 4.2, 1.2]]),\n",
       " array([[5.5, 4.2, 1.4, 0.2],\n",
       "        [5.4, 3.9, 1.3, 0.4],\n",
       "        [5. , 3.5, 1.6, 0.6],\n",
       "        [7.2, 3. , 5.8, 1.6],\n",
       "        [7. , 3.2, 4.7, 1.4],\n",
       "        [6.3, 2.7, 4.9, 1.8],\n",
       "        [6.2, 2.2, 4.5, 1.5],\n",
       "        [5.5, 2.3, 4. , 1.3],\n",
       "        [6.3, 2.5, 5. , 1.9],\n",
       "        [4.9, 3. , 1.4, 0.2],\n",
       "        [6.5, 3. , 5.2, 2. ],\n",
       "        [5.2, 4.1, 1.5, 0.1],\n",
       "        [5.4, 3.4, 1.5, 0.4],\n",
       "        [7.7, 2.8, 6.7, 2. ],\n",
       "        [6.1, 3. , 4.9, 1.8],\n",
       "        [6.4, 2.9, 4.3, 1.3],\n",
       "        [5.6, 3. , 4.1, 1.3],\n",
       "        [5.7, 2.9, 4.2, 1.3],\n",
       "        [4.4, 3.2, 1.3, 0.2],\n",
       "        [6.1, 2.6, 5.6, 1.4],\n",
       "        [5.5, 2.4, 3.8, 1.1],\n",
       "        [5.3, 3.7, 1.5, 0.2],\n",
       "        [5.5, 2.6, 4.4, 1.2],\n",
       "        [6.7, 3.1, 4.4, 1.4],\n",
       "        [6.2, 2.9, 4.3, 1.3],\n",
       "        [5.6, 2.9, 3.6, 1.3],\n",
       "        [5. , 2.3, 3.3, 1. ],\n",
       "        [5.8, 2.8, 5.1, 2.4],\n",
       "        [5. , 3. , 1.6, 0.2],\n",
       "        [4.5, 2.3, 1.3, 0.3]]),\n",
       " array([2, 1, 2, 1, 2, 1, 1, 1, 1, 2, 0, 0, 0, 1, 1, 0, 2, 1, 0, 1, 1, 0,\n",
       "        2, 0, 1, 2, 1, 0, 0, 1, 0, 1, 2, 2, 1, 0, 1, 0, 2, 2, 1, 2, 1, 2,\n",
       "        0, 0, 0, 1, 0, 0, 0, 2, 0, 0, 2, 2, 0, 0, 2, 2, 2, 0, 1, 2, 0, 0,\n",
       "        2, 2, 0, 1, 0, 2, 2, 0, 2, 1, 1, 2, 0, 2, 0, 1, 2, 0, 1, 0, 2, 1,\n",
       "        2, 0, 2, 2, 2, 1, 0, 0, 2, 1, 0, 1, 2, 2, 2, 1, 0, 2, 0, 2, 1, 2,\n",
       "        2, 0, 2, 1, 1, 1, 1, 1, 0, 1]),\n",
       " array([0, 0, 0, 2, 1, 2, 1, 1, 2, 0, 2, 0, 0, 2, 2, 1, 1, 1, 0, 2, 1, 0,\n",
       "        1, 1, 1, 1, 1, 2, 0, 0]))"
      ]
     },
     "execution_count": 164,
     "metadata": {},
     "output_type": "execute_result"
    }
   ],
   "source": [
    "X_train, X_test, y_train, y_test"
   ]
  },
  {
   "cell_type": "code",
   "execution_count": 165,
   "id": "f27b6eef-ed56-46a6-a05b-e83113364141",
   "metadata": {},
   "outputs": [
    {
     "data": {
      "text/plain": [
       "numpy.ndarray"
      ]
     },
     "execution_count": 165,
     "metadata": {},
     "output_type": "execute_result"
    }
   ],
   "source": [
    "type(X_train)"
   ]
  },
  {
   "cell_type": "markdown",
   "id": "f9444623-5b6e-42f3-bde5-b4b92033344e",
   "metadata": {},
   "source": [
    "##### 모델을 만들엇대.."
   ]
  },
  {
   "cell_type": "code",
   "execution_count": 109,
   "id": "632f78d8-5b13-46a0-a59c-dbc9addf9954",
   "metadata": {},
   "outputs": [],
   "source": [
    "dt_clf = DecisionTreeClassifier()"
   ]
  },
  {
   "cell_type": "markdown",
   "id": "9ff66a9b-6a2a-400d-9ecc-8b584d52b101",
   "metadata": {},
   "source": [
    "### 학습을 해보래... (변수.fit)"
   ]
  },
  {
   "cell_type": "code",
   "execution_count": 110,
   "id": "3cd10a71-8454-497c-836b-322667329d11",
   "metadata": {},
   "outputs": [
    {
     "data": {
      "text/plain": [
       "DecisionTreeClassifier()"
      ]
     },
     "execution_count": 110,
     "metadata": {},
     "output_type": "execute_result"
    }
   ],
   "source": [
    "dt_clf.fit(X_train, y_train) # y_train : 답"
   ]
  },
  {
   "cell_type": "markdown",
   "id": "eb572cfc-268d-4ae1-9599-c7192a4610f3",
   "metadata": {},
   "source": [
    "### 검증을 하래... (변수.predict)"
   ]
  },
  {
   "cell_type": "code",
   "execution_count": 114,
   "id": "14475413-a120-4042-b4fe-7f5fb9ff57d9",
   "metadata": {},
   "outputs": [],
   "source": [
    "pred = dt_clf.predict(X_test) # 예측값 저장"
   ]
  },
  {
   "cell_type": "code",
   "execution_count": 115,
   "id": "6b8b39c3-3344-4b5f-bc41-8f5711d9ce65",
   "metadata": {},
   "outputs": [
    {
     "data": {
      "text/plain": [
       "array([0, 0, 0, 2, 1, 2, 1, 1, 2, 0, 2, 0, 0, 2, 2, 1, 1, 1, 0, 2, 1, 0,\n",
       "       1, 1, 1, 1, 1, 2, 0, 0])"
      ]
     },
     "execution_count": 115,
     "metadata": {},
     "output_type": "execute_result"
    }
   ],
   "source": [
    "pred"
   ]
  },
  {
   "cell_type": "code",
   "execution_count": 116,
   "id": "f9d5bf46-606a-4ae9-9e85-f14104fdd9fe",
   "metadata": {
    "collapsed": true,
    "jupyter": {
     "outputs_hidden": true
    },
    "tags": []
   },
   "outputs": [
    {
     "data": {
      "text/plain": [
       "33     0\n",
       "16     0\n",
       "43     0\n",
       "129    2\n",
       "50     1\n",
       "123    2\n",
       "68     1\n",
       "53     1\n",
       "146    2\n",
       "1      0\n",
       "147    2\n",
       "32     0\n",
       "31     0\n",
       "122    2\n",
       "127    2\n",
       "74     1\n",
       "88     1\n",
       "96     1\n",
       "42     0\n",
       "134    2\n",
       "80     1\n",
       "48     0\n",
       "90     1\n",
       "65     1\n",
       "97     1\n",
       "64     1\n",
       "93     1\n",
       "114    2\n",
       "25     0\n",
       "41     0\n",
       "Name: target, dtype: int32"
      ]
     },
     "execution_count": 116,
     "metadata": {},
     "output_type": "execute_result"
    }
   ],
   "source": [
    "y_test"
   ]
  },
  {
   "cell_type": "markdown",
   "id": "abc69ddc-64e9-40b9-9d6d-b1c62eb05a46",
   "metadata": {
    "tags": []
   },
   "source": [
    "##### 답을 눈으로 확인하기 힘드니까 밑에 잇는걸 쓴다"
   ]
  },
  {
   "cell_type": "code",
   "execution_count": 117,
   "id": "6d00ae5b-6470-4a16-b6b0-8e4293ee719a",
   "metadata": {},
   "outputs": [],
   "source": [
    "from sklearn.metrics import accuracy_score # 평가관련하여 모든게 다 들어가있다 / 분류에서 맞냐 틀리냐.."
   ]
  },
  {
   "cell_type": "code",
   "execution_count": 118,
   "id": "21ba0716-150c-4813-9d5a-8b89d297f20c",
   "metadata": {},
   "outputs": [
    {
     "data": {
      "text/plain": [
       "1.0"
      ]
     },
     "execution_count": 118,
     "metadata": {},
     "output_type": "execute_result"
    }
   ],
   "source": [
    "accuracy_score(y_test, pred) #첫번째는 정답이 들어있는 변수, 두번째는 컴이 내놓은 답이 들어있는 변수"
   ]
  },
  {
   "cell_type": "markdown",
   "id": "a6e23fa8-d517-4a92-94a9-4d57e939d8d7",
   "metadata": {},
   "source": [
    "#### fit_transform().. 도 잇다고 한다"
   ]
  },
  {
   "cell_type": "code",
   "execution_count": 72,
   "id": "5dae27cc-8a5a-4f20-bf09-b2727fe4aaca",
   "metadata": {},
   "outputs": [],
   "source": [
    "# feature : 독립변수 (x값)"
   ]
  },
  {
   "cell_type": "markdown",
   "id": "455e04e5-e7dd-42e4-99e9-ea45ca65c758",
   "metadata": {},
   "source": [
    "#### 함수설명...."
   ]
  },
  {
   "cell_type": "code",
   "execution_count": 130,
   "id": "48f486a9-4f37-4b3a-ae5f-cd4df90be15e",
   "metadata": {},
   "outputs": [],
   "source": [
    "def test1(a,b):\n",
    "    '''\n",
    "    이 함수는 결과값이 3개로 나갑니다.\n",
    "    '''\n",
    "    return a+b, a-b, a*b"
   ]
  },
  {
   "cell_type": "code",
   "execution_count": null,
   "id": "55a2b677-9f25-483f-a26d-8115002b61d3",
   "metadata": {},
   "outputs": [],
   "source": [
    "test1()"
   ]
  },
  {
   "cell_type": "code",
   "execution_count": 121,
   "id": "9f79d373-03b1-4b1d-a664-34f1eac84f9c",
   "metadata": {},
   "outputs": [],
   "source": [
    "result = test1(1,2)"
   ]
  },
  {
   "cell_type": "code",
   "execution_count": 123,
   "id": "b5853468-9824-4e15-a1db-881a9221addb",
   "metadata": {},
   "outputs": [
    {
     "data": {
      "text/plain": [
       "(3, -1, 2)"
      ]
     },
     "execution_count": 123,
     "metadata": {},
     "output_type": "execute_result"
    }
   ],
   "source": [
    "result"
   ]
  },
  {
   "cell_type": "code",
   "execution_count": 124,
   "id": "2c6e1649-af70-40b0-8802-b6ae9c3b871a",
   "metadata": {},
   "outputs": [],
   "source": [
    "r1, r2, r3 = test1(3,4)"
   ]
  },
  {
   "cell_type": "code",
   "execution_count": 126,
   "id": "e8220f79-a7f0-4553-877a-7a44c02a4a4e",
   "metadata": {},
   "outputs": [
    {
     "data": {
      "text/plain": [
       "7"
      ]
     },
     "execution_count": 126,
     "metadata": {},
     "output_type": "execute_result"
    }
   ],
   "source": [
    "r1"
   ]
  },
  {
   "cell_type": "code",
   "execution_count": 127,
   "id": "437c70b3-19fb-48ec-820e-61aad5d5d91c",
   "metadata": {},
   "outputs": [
    {
     "data": {
      "text/plain": [
       "-1"
      ]
     },
     "execution_count": 127,
     "metadata": {},
     "output_type": "execute_result"
    }
   ],
   "source": [
    "r2"
   ]
  },
  {
   "cell_type": "code",
   "execution_count": 128,
   "id": "7c47842d-5f6c-424a-8238-eee28f47d50c",
   "metadata": {},
   "outputs": [
    {
     "data": {
      "text/plain": [
       "12"
      ]
     },
     "execution_count": 128,
     "metadata": {},
     "output_type": "execute_result"
    }
   ],
   "source": [
    "r3"
   ]
  },
  {
   "cell_type": "markdown",
   "id": "8f83afbe-a7c5-43cc-b0b2-1b875ac4cc0d",
   "metadata": {},
   "source": [
    "### 과적합 참조\n",
    "![과적합](과적합.png)"
   ]
  },
  {
   "cell_type": "markdown",
   "id": "70bf5103-edd2-4322-b491-e855c111a4a0",
   "metadata": {},
   "source": [
    "```\n",
    "print('hello')\n",
    "```"
   ]
  },
  {
   "cell_type": "code",
   "execution_count": 196,
   "id": "28717213-1863-4289-a7b2-dbaecab61a79",
   "metadata": {},
   "outputs": [],
   "source": [
    "from sklearn.tree import DecisionTreeClassifier\n",
    "from sklearn.metrics import accuracy_score\n",
    "from sklearn.model_selection import KFold\n",
    "import numpy as np"
   ]
  },
  {
   "cell_type": "code",
   "execution_count": 197,
   "id": "b7aa55fd-85bf-4056-be2d-7717457917e8",
   "metadata": {},
   "outputs": [],
   "source": [
    "iris = load_iris()\n",
    "dt_clf = DecisionTreeClassifier(random_state = 156)"
   ]
  },
  {
   "cell_type": "code",
   "execution_count": 198,
   "id": "af570b3d-fe38-43a8-a628-0495e06f04fa",
   "metadata": {},
   "outputs": [],
   "source": [
    "kfold = KFold(n_splits = 5, shuffle = True)"
   ]
  },
  {
   "cell_type": "code",
   "execution_count": 199,
   "id": "6e15dd9c-cbcd-4479-8d8c-d9ebb0d1b38d",
   "metadata": {},
   "outputs": [],
   "source": [
    "cv_accuracy = []"
   ]
  },
  {
   "cell_type": "code",
   "execution_count": 200,
   "id": "111b8cba-15aa-45f7-bc51-477ce7855fc7",
   "metadata": {},
   "outputs": [
    {
     "data": {
      "text/plain": [
       "(150, 4)"
      ]
     },
     "execution_count": 200,
     "metadata": {},
     "output_type": "execute_result"
    }
   ],
   "source": [
    "iris.data.shape # shape : 몇행의 몇열인가를 알려줌"
   ]
  },
  {
   "cell_type": "code",
   "execution_count": 201,
   "id": "df531b84-2bf3-479e-a7c3-cf127dd00fef",
   "metadata": {
    "tags": []
   },
   "outputs": [
    {
     "name": "stdout",
     "output_type": "stream",
     "text": [
      "1번째 교차검증\n",
      "학습데이터 건수: 120, 검증데이터 건수: 30\n",
      "정확도: 0.9666666666666667\n",
      "2번째 교차검증\n",
      "학습데이터 건수: 120, 검증데이터 건수: 30\n",
      "정확도: 0.9666666666666667\n",
      "3번째 교차검증\n",
      "학습데이터 건수: 120, 검증데이터 건수: 30\n",
      "정확도: 0.9333333333333333\n",
      "4번째 교차검증\n",
      "학습데이터 건수: 120, 검증데이터 건수: 30\n",
      "정확도: 1.0\n",
      "5번째 교차검증\n",
      "학습데이터 건수: 120, 검증데이터 건수: 30\n",
      "정확도: 0.8333333333333334\n",
      "0.9400000000000001\n"
     ]
    }
   ],
   "source": [
    "n_iter = 0  #반복체크하는 용도\n",
    "for train_index, test_index in kfold.split(iris.data): # split : 얘가 인덱스 값을 뽑아줌\n",
    "    # print(train_index)\n",
    "    # print(\"-\"*50)\n",
    "    # print(test_index)\n",
    "    # print()\n",
    "    X_train, X_test = iris.data[train_index], iris.data[test_index]\n",
    "    # print(X_train, X_test)\n",
    "    y_train, y_test = iris.target[train_index], iris.target[test_index]\n",
    "    dt_clf.fit(X_train, y_train)\n",
    "    pred = dt_clf.predict(X_test)\n",
    "    accuracy = accuracy_score(y_test, pred)\n",
    "    cv_accuracy.append(accuracy)\n",
    "    n_iter += 1 # 1씩 증가\n",
    "    print(f'{n_iter}번째 교차검증')\n",
    "    print(f'학습데이터 건수: {X_train.shape[0]}, 검증데이터 건수: {X_test.shape[0]}')\n",
    "    print(f'정확도: {accuracy}')\n",
    "print(np.mean(cv_accuracy))"
   ]
  },
  {
   "cell_type": "code",
   "execution_count": 202,
   "id": "8799cca6-0622-48ae-9a59-f8f1db265f02",
   "metadata": {},
   "outputs": [
    {
     "name": "stdout",
     "output_type": "stream",
     "text": [
      "학습용데이터 분포:\n",
      " 1    41\n",
      "0    40\n",
      "2    39\n",
      "dtype: int64\n",
      "검증용데이터 분포:\n",
      " 2    11\n",
      "0    10\n",
      "1     9\n",
      "dtype: int64\n",
      "학습용데이터 분포:\n",
      " 1    43\n",
      "0    42\n",
      "2    35\n",
      "dtype: int64\n",
      "검증용데이터 분포:\n",
      " 2    15\n",
      "0     8\n",
      "1     7\n",
      "dtype: int64\n",
      "학습용데이터 분포:\n",
      " 2    43\n",
      "0    41\n",
      "1    36\n",
      "dtype: int64\n",
      "검증용데이터 분포:\n",
      " 1    14\n",
      "0     9\n",
      "2     7\n",
      "dtype: int64\n",
      "학습용데이터 분포:\n",
      " 0    43\n",
      "2    40\n",
      "1    37\n",
      "dtype: int64\n",
      "검증용데이터 분포:\n",
      " 1    13\n",
      "2    10\n",
      "0     7\n",
      "dtype: int64\n",
      "학습용데이터 분포:\n",
      " 1    43\n",
      "2    43\n",
      "0    34\n",
      "dtype: int64\n",
      "검증용데이터 분포:\n",
      " 0    16\n",
      "1     7\n",
      "2     7\n",
      "dtype: int64\n"
     ]
    }
   ],
   "source": [
    "kfold = KFold(n_splits = 5, shuffle = True)\n",
    "n_iter = 0  #반복체크하는 용도\n",
    "\n",
    "for train_index, test_index in kfold.split(iris.data): # split : 얘가 인덱스 값을 뽑아줌\n",
    "    X_train, X_test = iris.data[train_index], iris.data[test_index]\n",
    "    y_train, y_test = iris.target[train_index], iris.target[test_index]\n",
    "    \n",
    "    print('학습용데이터 분포:\\n',pd.Series(y_train).value_counts()) # numpy의 ndarray는 value_count가 없어.. 그래서 series나 데이터프레임으로 만듦\n",
    "    print('검증용데이터 분포:\\n',pd.Series(y_test).value_counts())"
   ]
  },
  {
   "cell_type": "code",
   "execution_count": 203,
   "id": "46fd0092-0f65-4ff0-be3f-3e73fbe3778e",
   "metadata": {},
   "outputs": [],
   "source": [
    "from sklearn.model_selection import StratifiedKFold"
   ]
  },
  {
   "cell_type": "code",
   "execution_count": 204,
   "id": "226c3740-1e10-4fbe-81d1-a1dac6ee138c",
   "metadata": {},
   "outputs": [
    {
     "name": "stdout",
     "output_type": "stream",
     "text": [
      "학습용데이터 분포:\n",
      " 0    40\n",
      "1    40\n",
      "2    40\n",
      "dtype: int64\n",
      "검증용데이터 분포:\n",
      " 0    10\n",
      "1    10\n",
      "2    10\n",
      "dtype: int64\n",
      "학습용데이터 분포:\n",
      " 0    40\n",
      "1    40\n",
      "2    40\n",
      "dtype: int64\n",
      "검증용데이터 분포:\n",
      " 0    10\n",
      "1    10\n",
      "2    10\n",
      "dtype: int64\n",
      "학습용데이터 분포:\n",
      " 0    40\n",
      "1    40\n",
      "2    40\n",
      "dtype: int64\n",
      "검증용데이터 분포:\n",
      " 0    10\n",
      "1    10\n",
      "2    10\n",
      "dtype: int64\n",
      "학습용데이터 분포:\n",
      " 0    40\n",
      "1    40\n",
      "2    40\n",
      "dtype: int64\n",
      "검증용데이터 분포:\n",
      " 0    10\n",
      "1    10\n",
      "2    10\n",
      "dtype: int64\n",
      "학습용데이터 분포:\n",
      " 0    40\n",
      "1    40\n",
      "2    40\n",
      "dtype: int64\n",
      "검증용데이터 분포:\n",
      " 0    10\n",
      "1    10\n",
      "2    10\n",
      "dtype: int64\n"
     ]
    }
   ],
   "source": [
    "skfold = StratifiedKFold(n_splits = 5, shuffle = True)\n",
    "n_iter = 0  #반복체크하는 용도\n",
    "\n",
    "for train_index, test_index in skfold.split(iris.data, iris.target): # split : 얘가 인덱스 값을 뽑아줌\n",
    "    X_train, X_test = iris.data[train_index], iris.data[test_index]\n",
    "    y_train, y_test = iris.target[train_index], iris.target[test_index]\n",
    "    \n",
    "    print('학습용데이터 분포:\\n',pd.Series(y_train).value_counts()) # numpy의 ndarray는 value_count가 없어.. 그래서 series나 데이터프레임으로 만듦\n",
    "    print('검증용데이터 분포:\\n',pd.Series(y_test).value_counts())"
   ]
  },
  {
   "cell_type": "code",
   "execution_count": 213,
   "id": "d4aaa07c-955b-45a9-b4c0-6690c3928567",
   "metadata": {},
   "outputs": [
    {
     "name": "stdout",
     "output_type": "stream",
     "text": [
      "1번째 교차검증\n",
      "학습데이터 건수: 120, 검증데이터 건수: 30\n",
      "정확도: 0.9666666666666667\n",
      "2번째 교차검증\n",
      "학습데이터 건수: 120, 검증데이터 건수: 30\n",
      "정확도: 0.8666666666666667\n",
      "3번째 교차검증\n",
      "학습데이터 건수: 120, 검증데이터 건수: 30\n",
      "정확도: 0.9333333333333333\n",
      "4번째 교차검증\n",
      "학습데이터 건수: 120, 검증데이터 건수: 30\n",
      "정확도: 0.9333333333333333\n",
      "5번째 교차검증\n",
      "학습데이터 건수: 120, 검증데이터 건수: 30\n",
      "정확도: 1.0\n",
      "0.9400000000000001\n"
     ]
    }
   ],
   "source": [
    "skfold = StratifiedKFold(n_splits = 5, shuffle = True)\n",
    "n_iter = 0  #반복체크하는 용도\n",
    "cv_accuracy = []\n",
    "for train_index, test_index in skfold.split(iris.data, iris.target): \n",
    "\n",
    "    X_train, X_test = iris.data[train_index], iris.data[test_index]\n",
    "    y_train, y_test = iris.target[train_index], iris.target[test_index]\n",
    "    dt_clf.fit(X_train, y_train)\n",
    "    pred = dt_clf.predict(X_test)\n",
    "    accuracy = accuracy_score(y_test, pred)\n",
    "    cv_accuracy.append(accuracy)\n",
    "    n_iter += 1\n",
    "    print(f'{n_iter}번째 교차검증')\n",
    "    print(f'학습데이터 건수: {X_train.shape[0]}, 검증데이터 건수: {X_test.shape[0]}')\n",
    "    print(f'정확도: {accuracy}')\n",
    "print(np.mean(cv_accuracy))"
   ]
  },
  {
   "cell_type": "markdown",
   "id": "1eb868ee-34b5-4ea8-b554-a3819523b590",
   "metadata": {},
   "source": [
    "## 교차검증 간단하게 하는법 : cross_val_score\n",
    "##### stratified KFold 방식을 차용 "
   ]
  },
  {
   "cell_type": "code",
   "execution_count": null,
   "id": "6afc33be-0820-40e6-a54a-1fc4f4a1c5c8",
   "metadata": {},
   "outputs": [],
   "source": [
    "# esimator를 상속받아 만들어짐. \n",
    "# 만든 모델을 넣고 X는 독립변수, y는 ㅇㅇ변수\n",
    "# scoring 정확도\n",
    "# cv k값?을? 몇개로 나눌건지?\n",
    "# n_jobs = 1 cpu코어를 1개 쓸건지 2개쓸건지..\n",
    "# verbos = 0 안찍어줄거면 0.. 1이나2는 관련 로그들이.... ... ..???????"
   ]
  },
  {
   "cell_type": "code",
   "execution_count": 301,
   "id": "5c7bdc20-dc87-416c-8351-cf4d43acfd31",
   "metadata": {},
   "outputs": [],
   "source": [
    "from sklearn.tree import DecisionTreeClassifier\n",
    "from sklearn.model_selection import cross_val_score\n",
    "from sklearn.datasets import load_iris\n",
    "import numpy as np\n",
    "import pandas as pd"
   ]
  },
  {
   "cell_type": "code",
   "execution_count": 302,
   "id": "983e8fdd-1cb0-4fd8-b0c2-02e289bc9f52",
   "metadata": {},
   "outputs": [],
   "source": [
    "iris_data = load_iris()\n",
    "dt_clf = DecisionTreeClassifier(random_state = 156)"
   ]
  },
  {
   "cell_type": "code",
   "execution_count": 303,
   "id": "3dd0e566-10b1-49e4-80ac-3fe3c420de7f",
   "metadata": {},
   "outputs": [],
   "source": [
    "scores = cross_val_score(dt_clf, \n",
    "                iris_data.data, # 2딕셔너리형태\n",
    "                iris_data.target, # 3타겟이라는 컬럼\n",
    "                scoring='accuracy', cv = 3)   "
   ]
  },
  {
   "cell_type": "code",
   "execution_count": 304,
   "id": "503813ea-666b-44f2-b9ee-add575d39b89",
   "metadata": {},
   "outputs": [
    {
     "name": "stdout",
     "output_type": "stream",
     "text": [
      "교차검증별 정확도 [0.98 0.94 0.98]\n",
      "평균 교차검증 정확도 0.9666666666666667\n"
     ]
    }
   ],
   "source": [
    "print(\"교차검증별 정확도\", scores)\n",
    "print(\"평균 교차검증 정확도\", np.mean(scores))"
   ]
  },
  {
   "cell_type": "markdown",
   "id": "44f755bc-c89d-47c2-9388-3dfdc4f82ce0",
   "metadata": {},
   "source": [
    "# GridSearchCV\n",
    "##### 교차검증과 최적 하이퍼 파라미터 튜닝을 한번에...?"
   ]
  },
  {
   "cell_type": "code",
   "execution_count": 397,
   "id": "5d9eb96a-b2da-4f6a-8172-fb79ed32dd55",
   "metadata": {},
   "outputs": [],
   "source": [
    "from sklearn.model_selection import GridSearchCV,train_test_split"
   ]
  },
  {
   "cell_type": "code",
   "execution_count": 398,
   "id": "5134480d-6bc9-4b12-bcd1-04bd23e0ea07",
   "metadata": {},
   "outputs": [],
   "source": [
    "grid_param = {'max_depth':[1,2,3], 'min_samples_split': [2,3]}"
   ]
  },
  {
   "cell_type": "code",
   "execution_count": 410,
   "id": "9345ae3c-168c-4dbb-bd8a-66bc6f33512a",
   "metadata": {},
   "outputs": [
    {
     "data": {
      "text/plain": [
       "GridSearchCV(cv=3, estimator=DecisionTreeClassifier(),\n",
       "             param_grid={'max_depth': [1, 2, 3], 'min_samples_split': [2, 3]})"
      ]
     },
     "execution_count": 410,
     "metadata": {},
     "output_type": "execute_result"
    }
   ],
   "source": [
    "iris = load_iris()\n",
    "X_train, X_test, y_train, y_test = train_test_split(iris.data, iris.target, test_size = 0.2, random_state = 121)\n",
    "dtree = DecisionTreeClassifier()\n",
    "grid_dtree = GridSearchCV(dtree, param_grid= grid_param, cv = 3, refit = True)\n",
    "grid_dtree.fit(X_train,y_train) # 지도학습이니 정답을 넣어줌.. y가 정답임"
   ]
  },
  {
   "cell_type": "code",
   "execution_count": 411,
   "id": "6cb3fc27-a23c-44d2-a894-22fa86a599c0",
   "metadata": {
    "collapsed": true,
    "jupyter": {
     "outputs_hidden": true
    },
    "tags": []
   },
   "outputs": [
    {
     "data": {
      "text/plain": [
       "{'mean_fit_time': array([0.00067663, 0.00068831, 0.00101002, 0.00068839, 0.00134786,\n",
       "        0.00109982]),\n",
       " 'std_fit_time': array([4.78698119e-04, 4.94140705e-04, 1.74901691e-05, 4.87643045e-04,\n",
       "        3.50553820e-04, 8.37289481e-05]),\n",
       " 'mean_score_time': array([0.00050831, 0.0003322 , 0.00033283, 0.00066384, 0.00049535,\n",
       "        0.00067695]),\n",
       " 'std_score_time': array([4.00282618e-04, 4.69796871e-04, 4.70696004e-04, 4.69404722e-04,\n",
       "        1.26658896e-06, 4.78739137e-04]),\n",
       " 'param_max_depth': masked_array(data=[1, 1, 2, 2, 3, 3],\n",
       "              mask=[False, False, False, False, False, False],\n",
       "        fill_value='?',\n",
       "             dtype=object),\n",
       " 'param_min_samples_split': masked_array(data=[2, 3, 2, 3, 2, 3],\n",
       "              mask=[False, False, False, False, False, False],\n",
       "        fill_value='?',\n",
       "             dtype=object),\n",
       " 'params': [{'max_depth': 1, 'min_samples_split': 2},\n",
       "  {'max_depth': 1, 'min_samples_split': 3},\n",
       "  {'max_depth': 2, 'min_samples_split': 2},\n",
       "  {'max_depth': 2, 'min_samples_split': 3},\n",
       "  {'max_depth': 3, 'min_samples_split': 2},\n",
       "  {'max_depth': 3, 'min_samples_split': 3}],\n",
       " 'split0_test_score': array([0.7  , 0.7  , 0.925, 0.925, 0.975, 0.975]),\n",
       " 'split1_test_score': array([0.7, 0.7, 1. , 1. , 1. , 1. ]),\n",
       " 'split2_test_score': array([0.7 , 0.7 , 0.95, 0.95, 0.95, 0.95]),\n",
       " 'mean_test_score': array([0.7       , 0.7       , 0.95833333, 0.95833333, 0.975     ,\n",
       "        0.975     ]),\n",
       " 'std_test_score': array([1.11022302e-16, 1.11022302e-16, 3.11804782e-02, 3.11804782e-02,\n",
       "        2.04124145e-02, 2.04124145e-02]),\n",
       " 'rank_test_score': array([5, 5, 3, 3, 1, 1])}"
      ]
     },
     "execution_count": 411,
     "metadata": {},
     "output_type": "execute_result"
    }
   ],
   "source": [
    "grid_dtree.cv_results_"
   ]
  },
  {
   "cell_type": "code",
   "execution_count": 412,
   "id": "83871f8b-9188-4d29-b555-7b62903e48f7",
   "metadata": {},
   "outputs": [],
   "source": [
    "scores_df = pd.DataFrame(grid_dtree.cv_results_)"
   ]
  },
  {
   "cell_type": "code",
   "execution_count": 413,
   "id": "a5d9a34c-570b-486d-b184-8ba0ffc00ba2",
   "metadata": {
    "collapsed": true,
    "jupyter": {
     "outputs_hidden": true
    },
    "tags": []
   },
   "outputs": [
    {
     "data": {
      "text/plain": [
       "Index(['mean_fit_time', 'std_fit_time', 'mean_score_time', 'std_score_time',\n",
       "       'param_max_depth', 'param_min_samples_split', 'params',\n",
       "       'split0_test_score', 'split1_test_score', 'split2_test_score',\n",
       "       'mean_test_score', 'std_test_score', 'rank_test_score'],\n",
       "      dtype='object')"
      ]
     },
     "execution_count": 413,
     "metadata": {},
     "output_type": "execute_result"
    }
   ],
   "source": [
    "scores_df.columns"
   ]
  },
  {
   "cell_type": "code",
   "execution_count": 414,
   "id": "45a7e682-d63d-43e7-a396-f126f9a22abc",
   "metadata": {
    "collapsed": true,
    "jupyter": {
     "outputs_hidden": true
    },
    "tags": []
   },
   "outputs": [
    {
     "data": {
      "text/html": [
       "<div>\n",
       "<style scoped>\n",
       "    .dataframe tbody tr th:only-of-type {\n",
       "        vertical-align: middle;\n",
       "    }\n",
       "\n",
       "    .dataframe tbody tr th {\n",
       "        vertical-align: top;\n",
       "    }\n",
       "\n",
       "    .dataframe thead th {\n",
       "        text-align: right;\n",
       "    }\n",
       "</style>\n",
       "<table border=\"1\" class=\"dataframe\">\n",
       "  <thead>\n",
       "    <tr style=\"text-align: right;\">\n",
       "      <th></th>\n",
       "      <th>params</th>\n",
       "      <th>mean_test_score</th>\n",
       "      <th>rank_test_score</th>\n",
       "      <th>split0_test_score</th>\n",
       "      <th>split1_test_score</th>\n",
       "      <th>split2_test_score</th>\n",
       "    </tr>\n",
       "  </thead>\n",
       "  <tbody>\n",
       "    <tr>\n",
       "      <th>0</th>\n",
       "      <td>{'max_depth': 1, 'min_samples_split': 2}</td>\n",
       "      <td>0.700000</td>\n",
       "      <td>5</td>\n",
       "      <td>0.700</td>\n",
       "      <td>0.7</td>\n",
       "      <td>0.70</td>\n",
       "    </tr>\n",
       "    <tr>\n",
       "      <th>1</th>\n",
       "      <td>{'max_depth': 1, 'min_samples_split': 3}</td>\n",
       "      <td>0.700000</td>\n",
       "      <td>5</td>\n",
       "      <td>0.700</td>\n",
       "      <td>0.7</td>\n",
       "      <td>0.70</td>\n",
       "    </tr>\n",
       "    <tr>\n",
       "      <th>2</th>\n",
       "      <td>{'max_depth': 2, 'min_samples_split': 2}</td>\n",
       "      <td>0.958333</td>\n",
       "      <td>3</td>\n",
       "      <td>0.925</td>\n",
       "      <td>1.0</td>\n",
       "      <td>0.95</td>\n",
       "    </tr>\n",
       "    <tr>\n",
       "      <th>3</th>\n",
       "      <td>{'max_depth': 2, 'min_samples_split': 3}</td>\n",
       "      <td>0.958333</td>\n",
       "      <td>3</td>\n",
       "      <td>0.925</td>\n",
       "      <td>1.0</td>\n",
       "      <td>0.95</td>\n",
       "    </tr>\n",
       "    <tr>\n",
       "      <th>4</th>\n",
       "      <td>{'max_depth': 3, 'min_samples_split': 2}</td>\n",
       "      <td>0.975000</td>\n",
       "      <td>1</td>\n",
       "      <td>0.975</td>\n",
       "      <td>1.0</td>\n",
       "      <td>0.95</td>\n",
       "    </tr>\n",
       "    <tr>\n",
       "      <th>5</th>\n",
       "      <td>{'max_depth': 3, 'min_samples_split': 3}</td>\n",
       "      <td>0.975000</td>\n",
       "      <td>1</td>\n",
       "      <td>0.975</td>\n",
       "      <td>1.0</td>\n",
       "      <td>0.95</td>\n",
       "    </tr>\n",
       "  </tbody>\n",
       "</table>\n",
       "</div>"
      ],
      "text/plain": [
       "                                     params  mean_test_score  rank_test_score  \\\n",
       "0  {'max_depth': 1, 'min_samples_split': 2}         0.700000                5   \n",
       "1  {'max_depth': 1, 'min_samples_split': 3}         0.700000                5   \n",
       "2  {'max_depth': 2, 'min_samples_split': 2}         0.958333                3   \n",
       "3  {'max_depth': 2, 'min_samples_split': 3}         0.958333                3   \n",
       "4  {'max_depth': 3, 'min_samples_split': 2}         0.975000                1   \n",
       "5  {'max_depth': 3, 'min_samples_split': 3}         0.975000                1   \n",
       "\n",
       "   split0_test_score  split1_test_score  split2_test_score  \n",
       "0              0.700                0.7               0.70  \n",
       "1              0.700                0.7               0.70  \n",
       "2              0.925                1.0               0.95  \n",
       "3              0.925                1.0               0.95  \n",
       "4              0.975                1.0               0.95  \n",
       "5              0.975                1.0               0.95  "
      ]
     },
     "execution_count": 414,
     "metadata": {},
     "output_type": "execute_result"
    }
   ],
   "source": [
    "scores_df[['params', 'mean_test_score', 'rank_test_score', 'split0_test_score', 'split1_test_score', 'split2_test_score']]"
   ]
  },
  {
   "cell_type": "code",
   "execution_count": 415,
   "id": "a1897760-89cc-4fff-b5a7-28eca8c21ce3",
   "metadata": {},
   "outputs": [
    {
     "data": {
      "text/plain": [
       "0.975"
      ]
     },
     "execution_count": 415,
     "metadata": {},
     "output_type": "execute_result"
    }
   ],
   "source": [
    "grid_dtree.best_score_"
   ]
  },
  {
   "cell_type": "code",
   "execution_count": 416,
   "id": "45d6b92e-ccca-44b7-9e52-4fd84361c091",
   "metadata": {},
   "outputs": [
    {
     "data": {
      "text/plain": [
       "4"
      ]
     },
     "execution_count": 416,
     "metadata": {},
     "output_type": "execute_result"
    }
   ],
   "source": [
    "grid_dtree.best_index_"
   ]
  },
  {
   "cell_type": "code",
   "execution_count": 417,
   "id": "a0bd1f7e-db59-4c51-b137-68ed420f9a3b",
   "metadata": {},
   "outputs": [],
   "source": [
    "pred = grid_dtree.best_estimator_.predict(X_test)"
   ]
  },
  {
   "cell_type": "code",
   "execution_count": 418,
   "id": "42b735ae-1993-47ed-a49b-8086deb03290",
   "metadata": {},
   "outputs": [],
   "source": [
    "from sklearn.metrics import accuracy_score"
   ]
  },
  {
   "cell_type": "code",
   "execution_count": 419,
   "id": "2c3c2d21-8ac6-445e-b869-a4c7b2230bc4",
   "metadata": {},
   "outputs": [
    {
     "name": "stdout",
     "output_type": "stream",
     "text": [
      "best estimator 정확도 0.9666666666666667\n"
     ]
    }
   ],
   "source": [
    "print('best estimator 정확도', accuracy_score(y_test, pred))"
   ]
  },
  {
   "cell_type": "code",
   "execution_count": 420,
   "id": "296f5dad-38d9-4e98-9902-d5ea01bf5f59",
   "metadata": {},
   "outputs": [],
   "source": [
    "from sklearn.preprocessing import LabelEncoder"
   ]
  },
  {
   "cell_type": "code",
   "execution_count": 421,
   "id": "52b5293d-d95a-4b09-870c-2d64dc566518",
   "metadata": {},
   "outputs": [],
   "source": [
    "items = ['TV', '냉장고', '전자레인지', '컴퓨터', '선풍기', '선풍기', '믹서', '믹서']"
   ]
  },
  {
   "cell_type": "code",
   "execution_count": 422,
   "id": "6ad4cdd4-1d0f-4173-b2a0-70df7d611a85",
   "metadata": {},
   "outputs": [],
   "source": [
    "encoder = LabelEncoder()\n",
    "encoder.fit(items)\n",
    "encoder.transform(items)\n",
    "labels = encoder.transform(items)"
   ]
  },
  {
   "cell_type": "code",
   "execution_count": 425,
   "id": "8e5ad0ae-d8ac-4506-a8db-0462df05113a",
   "metadata": {},
   "outputs": [
    {
     "data": {
      "text/plain": [
       "array([0, 1, 4, 5, 3, 3, 2, 2])"
      ]
     },
     "execution_count": 425,
     "metadata": {},
     "output_type": "execute_result"
    }
   ],
   "source": [
    "labels # 가나다순"
   ]
  },
  {
   "cell_type": "code",
   "execution_count": 426,
   "id": "74f0467c-30d7-4851-83a5-5d380cb3af67",
   "metadata": {},
   "outputs": [
    {
     "data": {
      "text/plain": [
       "array(['TV', '냉장고', '믹서', '선풍기', '전자레인지', '컴퓨터'], dtype='<U5')"
      ]
     },
     "execution_count": 426,
     "metadata": {},
     "output_type": "execute_result"
    }
   ],
   "source": [
    "encoder.classes_"
   ]
  },
  {
   "cell_type": "code",
   "execution_count": 427,
   "id": "912c81dd-a179-4e53-be7c-5010817c15b0",
   "metadata": {},
   "outputs": [
    {
     "data": {
      "text/plain": [
       "array(['TV', '냉장고', '전자레인지', '컴퓨터', '선풍기', '선풍기', '믹서', '믹서'], dtype='<U5')"
      ]
     },
     "execution_count": 427,
     "metadata": {},
     "output_type": "execute_result"
    }
   ],
   "source": [
    "encoder.inverse_transform(labels)"
   ]
  },
  {
   "cell_type": "code",
   "execution_count": 428,
   "id": "1fe9096e-f37f-4911-abb6-2042622f7c5d",
   "metadata": {},
   "outputs": [],
   "source": [
    "from sklearn.preprocessing import OneHotEncoder"
   ]
  },
  {
   "cell_type": "code",
   "execution_count": 429,
   "id": "a84dd65f-dabc-40a7-b13b-960a8efde5b7",
   "metadata": {},
   "outputs": [],
   "source": [
    "items = ['TV', '냉장고', '전자레인지', '컴퓨터', '선풍기', '선풍기', '믹서', '믹서']"
   ]
  },
  {
   "cell_type": "code",
   "execution_count": 435,
   "id": "93b8ee65-cee9-44f7-838b-ecbed5f3ddf9",
   "metadata": {},
   "outputs": [
    {
     "data": {
      "text/plain": [
       "array([0, 1, 4, 5, 3, 3, 2, 2], dtype=int64)"
      ]
     },
     "execution_count": 435,
     "metadata": {},
     "output_type": "execute_result"
    }
   ],
   "source": [
    "encodern= LabelEncoder()\n",
    "labels = encoder.fit_transform(items)\n",
    "labels"
   ]
  },
  {
   "cell_type": "code",
   "execution_count": 438,
   "id": "47830655-3be2-477b-b864-96ef1ef7d4b5",
   "metadata": {},
   "outputs": [
    {
     "data": {
      "text/plain": [
       "(8,)"
      ]
     },
     "execution_count": 438,
     "metadata": {},
     "output_type": "execute_result"
    }
   ],
   "source": [
    "labels.shape"
   ]
  },
  {
   "cell_type": "code",
   "execution_count": 444,
   "id": "b30145e1-d36b-4577-bb4c-ce0347297f78",
   "metadata": {},
   "outputs": [
    {
     "data": {
      "text/plain": [
       "(8, 1)"
      ]
     },
     "execution_count": 444,
     "metadata": {},
     "output_type": "execute_result"
    }
   ],
   "source": [
    "labels = labels.reshape(-1,1)\n",
    "labels.shape"
   ]
  },
  {
   "cell_type": "code",
   "execution_count": 452,
   "id": "d9edb827-a5f7-4ee7-b20c-e01179c04e9e",
   "metadata": {},
   "outputs": [],
   "source": [
    "oh_encoder = OneHotEncoder()\n",
    "oh_labels = oh_encoder.fit_transform(labels)"
   ]
  },
  {
   "cell_type": "code",
   "execution_count": 453,
   "id": "bbd5628e-7d9a-4243-b73b-4e6f3602eae1",
   "metadata": {},
   "outputs": [
    {
     "data": {
      "text/plain": [
       "[array([0, 1, 2, 3, 4, 5], dtype=int64)]"
      ]
     },
     "execution_count": 453,
     "metadata": {},
     "output_type": "execute_result"
    }
   ],
   "source": [
    "oh_encoder.categories_"
   ]
  },
  {
   "cell_type": "code",
   "execution_count": 454,
   "id": "ab583ed8-9b33-450c-a474-c245ea674e8e",
   "metadata": {},
   "outputs": [
    {
     "data": {
      "text/plain": [
       "True"
      ]
     },
     "execution_count": 454,
     "metadata": {},
     "output_type": "execute_result"
    }
   ],
   "source": [
    "oh_encoder.sparse"
   ]
  },
  {
   "cell_type": "code",
   "execution_count": 455,
   "id": "dcd2572d-74be-425f-89a4-d4858a389e40",
   "metadata": {},
   "outputs": [
    {
     "data": {
      "text/plain": [
       "OneHotEncoder()"
      ]
     },
     "execution_count": 455,
     "metadata": {},
     "output_type": "execute_result"
    }
   ],
   "source": [
    "oh_encoder"
   ]
  },
  {
   "cell_type": "code",
   "execution_count": 456,
   "id": "84e80b07-508c-4bd5-a419-ba07f6000640",
   "metadata": {},
   "outputs": [
    {
     "data": {
      "text/plain": [
       "array([[1., 0., 0., 0., 0., 0.],\n",
       "       [0., 1., 0., 0., 0., 0.],\n",
       "       [0., 0., 0., 0., 1., 0.],\n",
       "       [0., 0., 0., 0., 0., 1.],\n",
       "       [0., 0., 0., 1., 0., 0.],\n",
       "       [0., 0., 0., 1., 0., 0.],\n",
       "       [0., 0., 1., 0., 0., 0.],\n",
       "       [0., 0., 1., 0., 0., 0.]])"
      ]
     },
     "execution_count": 456,
     "metadata": {},
     "output_type": "execute_result"
    }
   ],
   "source": [
    "oh_labels.toarray()"
   ]
  },
  {
   "cell_type": "code",
   "execution_count": 458,
   "id": "251cf463-4631-449d-a31c-af54b258a6b3",
   "metadata": {},
   "outputs": [],
   "source": [
    "df = pd.DataFrame({'item' : ['TV', '냉장고', '전자레인지', '컴퓨터', '선풍기', '선풍기', '믹서', '믹서']})"
   ]
  },
  {
   "cell_type": "code",
   "execution_count": 459,
   "id": "368c2a70-5bbe-4a2a-89e0-a0c60b35a05b",
   "metadata": {},
   "outputs": [
    {
     "data": {
      "text/html": [
       "<div>\n",
       "<style scoped>\n",
       "    .dataframe tbody tr th:only-of-type {\n",
       "        vertical-align: middle;\n",
       "    }\n",
       "\n",
       "    .dataframe tbody tr th {\n",
       "        vertical-align: top;\n",
       "    }\n",
       "\n",
       "    .dataframe thead th {\n",
       "        text-align: right;\n",
       "    }\n",
       "</style>\n",
       "<table border=\"1\" class=\"dataframe\">\n",
       "  <thead>\n",
       "    <tr style=\"text-align: right;\">\n",
       "      <th></th>\n",
       "      <th>item</th>\n",
       "    </tr>\n",
       "  </thead>\n",
       "  <tbody>\n",
       "    <tr>\n",
       "      <th>0</th>\n",
       "      <td>TV</td>\n",
       "    </tr>\n",
       "    <tr>\n",
       "      <th>1</th>\n",
       "      <td>냉장고</td>\n",
       "    </tr>\n",
       "    <tr>\n",
       "      <th>2</th>\n",
       "      <td>전자레인지</td>\n",
       "    </tr>\n",
       "    <tr>\n",
       "      <th>3</th>\n",
       "      <td>컴퓨터</td>\n",
       "    </tr>\n",
       "    <tr>\n",
       "      <th>4</th>\n",
       "      <td>선풍기</td>\n",
       "    </tr>\n",
       "    <tr>\n",
       "      <th>5</th>\n",
       "      <td>선풍기</td>\n",
       "    </tr>\n",
       "    <tr>\n",
       "      <th>6</th>\n",
       "      <td>믹서</td>\n",
       "    </tr>\n",
       "    <tr>\n",
       "      <th>7</th>\n",
       "      <td>믹서</td>\n",
       "    </tr>\n",
       "  </tbody>\n",
       "</table>\n",
       "</div>"
      ],
      "text/plain": [
       "    item\n",
       "0     TV\n",
       "1    냉장고\n",
       "2  전자레인지\n",
       "3    컴퓨터\n",
       "4    선풍기\n",
       "5    선풍기\n",
       "6     믹서\n",
       "7     믹서"
      ]
     },
     "execution_count": 459,
     "metadata": {},
     "output_type": "execute_result"
    }
   ],
   "source": [
    "df"
   ]
  },
  {
   "cell_type": "code",
   "execution_count": 461,
   "id": "49a2cab9-feab-4806-9cf5-93300838922c",
   "metadata": {},
   "outputs": [
    {
     "data": {
      "text/plain": [
       "array([[1, 0, 0, 0, 0, 0],\n",
       "       [0, 1, 0, 0, 0, 0],\n",
       "       [0, 0, 0, 0, 1, 0],\n",
       "       [0, 0, 0, 0, 0, 1],\n",
       "       [0, 0, 0, 1, 0, 0],\n",
       "       [0, 0, 0, 1, 0, 0],\n",
       "       [0, 0, 1, 0, 0, 0],\n",
       "       [0, 0, 1, 0, 0, 0]], dtype=uint8)"
      ]
     },
     "execution_count": 461,
     "metadata": {},
     "output_type": "execute_result"
    }
   ],
   "source": [
    "pd.get_dummies(df).values"
   ]
  },
  {
   "cell_type": "code",
   "execution_count": null,
   "id": "53e695db-5f08-4de9-9f5a-12cc7d408224",
   "metadata": {},
   "outputs": [],
   "source": []
  }
 ],
 "metadata": {
  "kernelspec": {
   "display_name": "Python 3 (ipykernel)",
   "language": "python",
   "name": "python3"
  },
  "language_info": {
   "codemirror_mode": {
    "name": "ipython",
    "version": 3
   },
   "file_extension": ".py",
   "mimetype": "text/x-python",
   "name": "python",
   "nbconvert_exporter": "python",
   "pygments_lexer": "ipython3",
   "version": "3.9.7"
  }
 },
 "nbformat": 4,
 "nbformat_minor": 5
}
